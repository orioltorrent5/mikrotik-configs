{
 "cells": [
  {
   "cell_type": "code",
   "execution_count": 89,
   "id": "07377bf6",
   "metadata": {
    "scrolled": true
   },
   "outputs": [],
   "source": [
    "import re\n",
    "import matplotlib as mat; \n",
    "import pandas as pd\n",
    "\n",
    "# Llegeix el fitxer en mode binari\n",
    "with open('./Addresses.WBX', 'rb') as file:\n",
    "    binary_data = file.read()\n",
    "    \n",
    "# Decodifiquem i ignorem si hi ha errors.\n",
    "data = binary_data.decode('utf-8', errors='ignore')  \n",
    "\n",
    "# Eliminem caracters no imprimibles. \n",
    "data_cleaned = re.sub(r'[^\\x20-\\x7E]+', ' ', data)"
   ]
  },
  {
   "cell_type": "code",
   "execution_count": 90,
   "id": "368e3a36",
   "metadata": {},
   "outputs": [],
   "source": [
    "# Expressió regular per cercar els valors dintre de la data.\n",
    "pattern = re.compile(r'group(?P<group>[^\\s]+)\\s+host(?P<host>[^\\s]+).*?login(?P<login>[^\\s]+)\\s+note(?P<note>.*?)\\s+pwd(?P<pwd>[^\\s]+)', re.DOTALL)\n",
    "\n",
    "# Llista per emmegatzemar els resultats\n",
    "results = []\n",
    "\n",
    "# A mesura que anem trobant les dades agrupem les informacións.\n",
    "for match in pattern.finditer(data_cleaned):\n",
    "    group_data = {\n",
    "        'group': match.group('group'),\n",
    "        'IP': match.group('host'),\n",
    "        'Username': match.group('login'),\n",
    "        'Device': match.group('note').strip(),\n",
    "        'Password': match.group('pwd')\n",
    "    }\n",
    "    results.append(group_data)\n"
   ]
  },
  {
   "cell_type": "code",
   "execution_count": 83,
   "id": "34bc5cd5",
   "metadata": {},
   "outputs": [],
   "source": [
    "# Mostrar los resultados de manera legible\n",
    "# for result in results:\n",
    "#     print(f\"Group: {result['group']}\")\n",
    "#     print(f\"Host: {result['IP']}\")\n",
    "#     print(f\"Login: {result['Username']}\")\n",
    "#     print(f\"Note: {result['Device']}\")\n",
    "#     print(f\"Password: {result['Password']}\")\n",
    "#     print(\"-\" * 40)"
   ]
  },
  {
   "cell_type": "code",
   "execution_count": 91,
   "id": "6a8eac19",
   "metadata": {},
   "outputs": [],
   "source": [
    "# Convertim el resultat en un df\n",
    "df = pd.DataFrame(results)"
   ]
  },
  {
   "cell_type": "markdown",
   "id": "ed42579f",
   "metadata": {},
   "source": [
    "### Ara acabem de polir les dades."
   ]
  },
  {
   "cell_type": "code",
   "execution_count": 110,
   "id": "21a32e47",
   "metadata": {},
   "outputs": [],
   "source": [
    "# Treiem els usuaris els numeros finals que ens ha agafat, treiem qualsevol numero del nom per cada string.\n",
    "df['Username'] = df['Username'].apply(lambda x: x.rstrip('0123456789*&%,.()=/$<>-#+').strip())\n",
    "df['group'] = df['group'].apply(lambda x: x.rstrip('0123456789*&%,.()=/$<>-#+').strip())"
   ]
  },
  {
   "cell_type": "code",
   "execution_count": 111,
   "id": "a89f3f19",
   "metadata": {},
   "outputs": [],
   "source": [
    "# Establim el port ssh per defecta 2274\n",
    "df['Port'] = '2274'"
   ]
  },
  {
   "cell_type": "code",
   "execution_count": 112,
   "id": "c0bb2214",
   "metadata": {},
   "outputs": [],
   "source": [
    "# Treiem el port de la IP\n",
    "df['IP'] = df['IP'].apply(lambda x: x.split(':')[0])"
   ]
  },
  {
   "cell_type": "code",
   "execution_count": 113,
   "id": "d0b48d19",
   "metadata": {},
   "outputs": [],
   "source": [
    "df.to_csv('info_mikrotik.csv', index = False)"
   ]
  }
 ],
 "metadata": {
  "kernelspec": {
   "display_name": "Python 3",
   "language": "python",
   "name": "python3"
  },
  "language_info": {
   "codemirror_mode": {
    "name": "ipython",
    "version": 3
   },
   "file_extension": ".py",
   "mimetype": "text/x-python",
   "name": "python",
   "nbconvert_exporter": "python",
   "pygments_lexer": "ipython3",
   "version": "3.6.13"
  }
 },
 "nbformat": 4,
 "nbformat_minor": 5
}
