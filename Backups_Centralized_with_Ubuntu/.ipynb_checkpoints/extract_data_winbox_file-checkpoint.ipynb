{
 "cells": [
  {
   "cell_type": "code",
   "execution_count": 2,
   "id": "07377bf6",
   "metadata": {
    "scrolled": true
   },
   "outputs": [],
   "source": [
    "import re\n",
    "import matplotlib as mat; \n",
    "import pandas as pd\n",
    "\n",
    "# Llegeix el fitxer en mode binari\n",
    "with open('./Addresses.WBX', 'rb') as file:\n",
    "    binary_data = file.read()"
   ]
  },
  {
   "cell_type": "code",
   "execution_count": 3,
   "id": "368e3a36",
   "metadata": {},
   "outputs": [],
   "source": [
    "# Expressió regular per identificar les IPs, noms d'usuari, contrasenyes i noms de dispositius\n",
    "# Aprofitem que devant de cada valor hi ha una paraula per identificar-ho.\n",
    "pattern = re.compile(\n",
    "    rb'host(?P<ip>[0-9a-zA-Z\\.\\:\\-]+).*?login(?P<username>[a-zA-Z0-9]+).*?pwd(?P<password>[a-zA-Z0-9\\!\\@\\#\\$\\%\\^\\&\\*\\(\\)\\_\\+\\-]+).*?note(?P<device>[a-zA-Z0-9\\s\\-\\(\\)\\:]+)',\n",
    "    re.DOTALL\n",
    ")\n",
    "\n",
    "# Utilitzem finditer per trobar totes les coincidències\n",
    "matches = pattern.finditer(binary_data)"
   ]
  },
  {
   "cell_type": "code",
   "execution_count": 4,
   "id": "fc565b46",
   "metadata": {},
   "outputs": [],
   "source": [
    "# Recopilem els resultats en un format estructurat\n",
    "devices_info = []\n",
    "\n",
    "for match in matches:\n",
    "    ip = match.group(\"ip\").decode('ascii')\n",
    "    username = match.group(\"username\").decode('ascii')\n",
    "    password = match.group(\"password\").decode('ascii')\n",
    "    device = match.group(\"device\").decode('ascii')\n",
    "    \n",
    "    devices_info.append({\n",
    "        \"IP\": ip,\n",
    "        \"Username\": username,\n",
    "        \"Password\": password,\n",
    "        \"Device\": device\n",
    "    })\n",
    "\n",
    "# Convertim la llista a un dataframe de pandas\n",
    "df = pd.DataFrame(devices_info)"
   ]
  },
  {
   "cell_type": "markdown",
   "id": "ed42579f",
   "metadata": {},
   "source": [
    "### Ara acabem de polir les dades."
   ]
  },
  {
   "cell_type": "code",
   "execution_count": 5,
   "id": "21a32e47",
   "metadata": {},
   "outputs": [],
   "source": [
    "# Treiem els usuaris els numeros finals que ens ha agafat, treiem qualsevol numero del nom per cada string.\n",
    "df['Username'] = df['Username'].apply(lambda x: x.rstrip('0123456789').strip())"
   ]
  },
  {
   "cell_type": "code",
   "execution_count": 6,
   "id": "a89f3f19",
   "metadata": {},
   "outputs": [],
   "source": [
    "# Establim el port ssh per defecta 2274\n",
    "df['Port'] = df['IP'] = '2274'"
   ]
  },
  {
   "cell_type": "code",
   "execution_count": 7,
   "id": "c0bb2214",
   "metadata": {},
   "outputs": [],
   "source": [
    "# Treiem el port de la IP\n",
    "df['IP'] = df['IP'].apply(lambda x: x.split(':')[0])"
   ]
  },
  {
   "cell_type": "code",
   "execution_count": 10,
   "id": "d0b48d19",
   "metadata": {},
   "outputs": [],
   "source": [
    "df.to_csv('info_mikrotik.csv', index = False)"
   ]
  }
 ],
 "metadata": {
  "kernelspec": {
   "display_name": "Python 3",
   "language": "python",
   "name": "python3"
  },
  "language_info": {
   "codemirror_mode": {
    "name": "ipython",
    "version": 3
   },
   "file_extension": ".py",
   "mimetype": "text/x-python",
   "name": "python",
   "nbconvert_exporter": "python",
   "pygments_lexer": "ipython3",
   "version": "3.6.13"
  }
 },
 "nbformat": 4,
 "nbformat_minor": 5
}
